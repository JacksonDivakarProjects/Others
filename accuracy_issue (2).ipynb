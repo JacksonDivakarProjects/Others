{
 "cells": [
  {
   "cell_type": "code",
   "execution_count": 41,
   "id": "9cd6483b-3636-4022-b274-91ebf3d678bf",
   "metadata": {},
   "outputs": [
    {
     "data": {
      "text/plain": [
       "'2.18.0'"
      ]
     },
     "execution_count": 41,
     "metadata": {},
     "output_type": "execute_result"
    }
   ],
   "source": [
    "tf.__version__"
   ]
  },
  {
   "cell_type": "code",
   "execution_count": 1,
   "id": "4f980c9d-0cfb-4aa8-bf26-ef6cee6febf5",
   "metadata": {},
   "outputs": [
    {
     "name": "stderr",
     "output_type": "stream",
     "text": [
      "2025-02-23 11:31:59.747777: I tensorflow/core/util/port.cc:153] oneDNN custom operations are on. You may see slightly different numerical results due to floating-point round-off errors from different computation orders. To turn them off, set the environment variable `TF_ENABLE_ONEDNN_OPTS=0`.\n",
      "2025-02-23 11:31:59.896907: E external/local_xla/xla/stream_executor/cuda/cuda_fft.cc:477] Unable to register cuFFT factory: Attempting to register factory for plugin cuFFT when one has already been registered\n",
      "WARNING: All log messages before absl::InitializeLog() is called are written to STDERR\n",
      "E0000 00:00:1740290519.954088    4847 cuda_dnn.cc:8310] Unable to register cuDNN factory: Attempting to register factory for plugin cuDNN when one has already been registered\n",
      "E0000 00:00:1740290519.969733    4847 cuda_blas.cc:1418] Unable to register cuBLAS factory: Attempting to register factory for plugin cuBLAS when one has already been registered\n",
      "2025-02-23 11:32:00.106625: I tensorflow/core/platform/cpu_feature_guard.cc:210] This TensorFlow binary is optimized to use available CPU instructions in performance-critical operations.\n",
      "To enable the following instructions: AVX2 AVX_VNNI FMA, in other operations, rebuild TensorFlow with the appropriate compiler flags.\n"
     ]
    }
   ],
   "source": [
    "import tensorflow as tf"
   ]
  },
  {
   "cell_type": "code",
   "execution_count": 2,
   "id": "5c8cc28f-9643-4a8a-b3a4-b79e8b2bd0f8",
   "metadata": {},
   "outputs": [],
   "source": [
    "import pandas as pd"
   ]
  },
  {
   "cell_type": "code",
   "execution_count": 3,
   "id": "afad62da-e7dc-45ff-b650-9269a59ecb04",
   "metadata": {},
   "outputs": [],
   "source": [
    "data=pd.read_csv('/home/jackson-divakar/Downloads/archive/placementdata.csv')"
   ]
  },
  {
   "cell_type": "code",
   "execution_count": 4,
   "id": "8676c299-e8ee-4527-8291-fbb0a4d2138b",
   "metadata": {},
   "outputs": [],
   "source": [
    "from sklearn.compose import make_column_selector"
   ]
  },
  {
   "cell_type": "code",
   "execution_count": 5,
   "id": "70ee8474-be3c-412f-947d-8b6c00aa7e1b",
   "metadata": {},
   "outputs": [],
   "source": [
    "from sklearn.preprocessing import scale"
   ]
  },
  {
   "cell_type": "code",
   "execution_count": 11,
   "id": "1f18618c-c66f-4705-9df2-5f4a99cd8c3a",
   "metadata": {},
   "outputs": [
    {
     "name": "stderr",
     "output_type": "stream",
     "text": [
      "/tmp/ipykernel_4847/2229707510.py:1: FutureWarning: Downcasting behavior in `replace` is deprecated and will be removed in a future version. To retain the old behavior, explicitly call `result.infer_objects(copy=False)`. To opt-in to the future behavior, set `pd.set_option('future.no_silent_downcasting', True)`\n",
      "  y_data=data['PlacementStatus'].replace({'NotPlaced':0,'Placed':1})\n"
     ]
    }
   ],
   "source": [
    "y_data=data['PlacementStatus'].replace({'NotPlaced':0,'Placed':1})"
   ]
  },
  {
   "cell_type": "code",
   "execution_count": 15,
   "id": "658a1102-2cdf-49a8-9d69-436f5dc89d5b",
   "metadata": {},
   "outputs": [],
   "source": [
    "selector=make_column_selector(dtype_include='number')"
   ]
  },
  {
   "cell_type": "code",
   "execution_count": 21,
   "id": "116043e5-cfae-4870-a731-8eb0c5fda57e",
   "metadata": {},
   "outputs": [],
   "source": [
    "x_data=data[selector(data)]"
   ]
  },
  {
   "cell_type": "code",
   "execution_count": 22,
   "id": "7bef9a74-1477-4d06-ba8e-66296717c183",
   "metadata": {},
   "outputs": [
    {
     "name": "stderr",
     "output_type": "stream",
     "text": [
      "/tmp/ipykernel_4847/4158031063.py:1: SettingWithCopyWarning: \n",
      "A value is trying to be set on a copy of a slice from a DataFrame\n",
      "\n",
      "See the caveats in the documentation: https://pandas.pydata.org/pandas-docs/stable/user_guide/indexing.html#returning-a-view-versus-a-copy\n",
      "  x_data.drop('StudentID',axis=1,inplace=True)\n"
     ]
    }
   ],
   "source": [
    "x_data.drop('StudentID',axis=1,inplace=True)"
   ]
  },
  {
   "cell_type": "code",
   "execution_count": 23,
   "id": "098b88ce-aec7-4221-be4c-b6d04fe7477b",
   "metadata": {},
   "outputs": [],
   "source": [
    "x_data=scale(x_data)"
   ]
  },
  {
   "cell_type": "code",
   "execution_count": 24,
   "id": "e4cf1d9d-a79a-4aac-a307-1292542b5add",
   "metadata": {},
   "outputs": [],
   "source": [
    "from sklearn.model_selection import train_test_split"
   ]
  },
  {
   "cell_type": "code",
   "execution_count": 25,
   "id": "782e7bf5-0fc7-48a5-bd86-0045e588cf87",
   "metadata": {},
   "outputs": [],
   "source": [
    "from tensorflow.keras.metrics import F1Score,Precision,Recall,Accuracy"
   ]
  },
  {
   "cell_type": "code",
   "execution_count": 27,
   "id": "75865846-068e-4bf7-9846-7a48681078c8",
   "metadata": {},
   "outputs": [],
   "source": [
    "from tensorflow.keras.losses import BinaryCrossentropy"
   ]
  },
  {
   "cell_type": "code",
   "execution_count": 28,
   "id": "56d462c8-2987-469d-a0e3-f5968d6f8969",
   "metadata": {},
   "outputs": [],
   "source": [
    "from tensorflow.keras.models import Model"
   ]
  },
  {
   "cell_type": "code",
   "execution_count": 29,
   "id": "62e15579-1962-49e3-a853-35632c4bb95e",
   "metadata": {},
   "outputs": [],
   "source": [
    "from tensorflow.keras.layers import Input,Dense"
   ]
  },
  {
   "cell_type": "code",
   "execution_count": 30,
   "id": "038ceb68-6f61-4185-9d5d-0e25373dc874",
   "metadata": {},
   "outputs": [],
   "source": [
    "xtra,xtest,ytra,ytest=train_test_split(x_data,y_data,test_size=0.2)"
   ]
  },
  {
   "cell_type": "code",
   "execution_count": 31,
   "id": "e9bc3608-624e-461c-820f-97f59b5b6de8",
   "metadata": {},
   "outputs": [
    {
     "data": {
      "text/plain": [
       "(8000, 8)"
      ]
     },
     "execution_count": 31,
     "metadata": {},
     "output_type": "execute_result"
    }
   ],
   "source": [
    "xtra.shape"
   ]
  },
  {
   "cell_type": "code",
   "execution_count": 32,
   "id": "2e6e46be-b500-49e7-94af-4c0edaa4438e",
   "metadata": {},
   "outputs": [
    {
     "name": "stderr",
     "output_type": "stream",
     "text": [
      "I0000 00:00:1740291037.614983    4847 gpu_device.cc:2022] Created device /job:localhost/replica:0/task:0/device:GPU:0 with 4176 MB memory:  -> device: 0, name: NVIDIA GeForce RTX 3050 6GB Laptop GPU, pci bus id: 0000:01:00.0, compute capability: 8.6\n"
     ]
    }
   ],
   "source": [
    "i=Input((8,))\n",
    "x=Dense(512,activation='relu')(i)\n",
    "x=Dense(256,activation='relu')(x)\n",
    "x=Dense(1,activation='sigmoid')(x)"
   ]
  },
  {
   "cell_type": "code",
   "execution_count": 33,
   "id": "87826056-a2f7-46a5-ada5-3fcd2ea5174f",
   "metadata": {},
   "outputs": [],
   "source": [
    "model=Model(i,x)"
   ]
  },
  {
   "cell_type": "code",
   "execution_count": 42,
   "id": "c755fadb-1035-4ea3-afa5-1f380c16fd5d",
   "metadata": {},
   "outputs": [],
   "source": [
    "model.compile(loss=BinaryCrossentropy(),metrics=[F1Score(),Precision(),Recall(),Accuracy()],optimizer='adam')"
   ]
  },
  {
   "cell_type": "code",
   "execution_count": 43,
   "id": "9a6e2239-39c4-4712-a96f-a9ec252d4bb7",
   "metadata": {
    "scrolled": true
   },
   "outputs": [
    {
     "name": "stdout",
     "output_type": "stream",
     "text": [
      "Epoch 1/30\n",
      "\u001b[1m400/400\u001b[0m \u001b[32m━━━━━━━━━━━━━━━━━━━━\u001b[0m\u001b[37m\u001b[0m \u001b[1m2s\u001b[0m 2ms/step - accuracy: 0.0060 - f1_score: 0.6079 - loss: 0.1177 - precision_2: 0.9416 - recall_2: 0.9618 - val_accuracy: 0.0020 - val_f1_score: 0.6001 - val_loss: 1.1982 - val_precision_2: 0.7075 - val_recall_2: 0.6835\n",
      "Epoch 2/30\n",
      "\u001b[1m400/400\u001b[0m \u001b[32m━━━━━━━━━━━━━━━━━━━━\u001b[0m\u001b[37m\u001b[0m \u001b[1m1s\u001b[0m 1ms/step - accuracy: 0.0033 - f1_score: 0.5917 - loss: 0.1139 - precision_2: 0.9459 - recall_2: 0.9625 - val_accuracy: 0.0020 - val_f1_score: 0.5998 - val_loss: 1.2613 - val_precision_2: 0.6957 - val_recall_2: 0.6940\n",
      "Epoch 3/30\n",
      "\u001b[1m400/400\u001b[0m \u001b[32m━━━━━━━━━━━━━━━━━━━━\u001b[0m\u001b[37m\u001b[0m \u001b[1m1s\u001b[0m 1ms/step - accuracy: 0.0055 - f1_score: 0.5961 - loss: 0.1157 - precision_2: 0.9452 - recall_2: 0.9580 - val_accuracy: 0.0045 - val_f1_score: 0.6013 - val_loss: 1.2201 - val_precision_2: 0.6993 - val_recall_2: 0.6952\n",
      "Epoch 4/30\n",
      "\u001b[1m400/400\u001b[0m \u001b[32m━━━━━━━━━━━━━━━━━━━━\u001b[0m\u001b[37m\u001b[0m \u001b[1m1s\u001b[0m 1ms/step - accuracy: 0.0048 - f1_score: 0.5934 - loss: 0.1074 - precision_2: 0.9487 - recall_2: 0.9659 - val_accuracy: 0.0030 - val_f1_score: 0.5987 - val_loss: 1.3488 - val_precision_2: 0.6920 - val_recall_2: 0.6928\n",
      "Epoch 5/30\n",
      "\u001b[1m400/400\u001b[0m \u001b[32m━━━━━━━━━━━━━━━━━━━━\u001b[0m\u001b[37m\u001b[0m \u001b[1m1s\u001b[0m 1ms/step - accuracy: 0.0066 - f1_score: 0.5896 - loss: 0.1072 - precision_2: 0.9447 - recall_2: 0.9695 - val_accuracy: 0.0050 - val_f1_score: 0.6028 - val_loss: 1.3405 - val_precision_2: 0.7033 - val_recall_2: 0.6753\n",
      "Epoch 6/30\n",
      "\u001b[1m400/400\u001b[0m \u001b[32m━━━━━━━━━━━━━━━━━━━━\u001b[0m\u001b[37m\u001b[0m \u001b[1m1s\u001b[0m 1ms/step - accuracy: 0.0056 - f1_score: 0.5937 - loss: 0.1063 - precision_2: 0.9512 - recall_2: 0.9559 - val_accuracy: 0.0030 - val_f1_score: 0.6009 - val_loss: 1.3208 - val_precision_2: 0.6880 - val_recall_2: 0.6928\n",
      "Epoch 7/30\n",
      "\u001b[1m400/400\u001b[0m \u001b[32m━━━━━━━━━━━━━━━━━━━━\u001b[0m\u001b[37m\u001b[0m \u001b[1m1s\u001b[0m 1ms/step - accuracy: 0.0076 - f1_score: 0.6018 - loss: 0.1027 - precision_2: 0.9505 - recall_2: 0.9630 - val_accuracy: 0.0025 - val_f1_score: 0.6016 - val_loss: 1.3232 - val_precision_2: 0.7052 - val_recall_2: 0.6729\n",
      "Epoch 8/30\n",
      "\u001b[1m400/400\u001b[0m \u001b[32m━━━━━━━━━━━━━━━━━━━━\u001b[0m\u001b[37m\u001b[0m \u001b[1m1s\u001b[0m 1ms/step - accuracy: 0.0054 - f1_score: 0.5913 - loss: 0.1151 - precision_2: 0.9415 - recall_2: 0.9547 - val_accuracy: 0.0060 - val_f1_score: 0.6005 - val_loss: 1.3977 - val_precision_2: 0.6936 - val_recall_2: 0.6741\n",
      "Epoch 9/30\n",
      "\u001b[1m400/400\u001b[0m \u001b[32m━━━━━━━━━━━━━━━━━━━━\u001b[0m\u001b[37m\u001b[0m \u001b[1m1s\u001b[0m 1ms/step - accuracy: 0.0090 - f1_score: 0.6039 - loss: 0.1190 - precision_2: 0.9477 - recall_2: 0.9539 - val_accuracy: 0.0030 - val_f1_score: 0.6019 - val_loss: 1.3318 - val_precision_2: 0.7036 - val_recall_2: 0.6846\n",
      "Epoch 10/30\n",
      "\u001b[1m400/400\u001b[0m \u001b[32m━━━━━━━━━━━━━━━━━━━━\u001b[0m\u001b[37m\u001b[0m \u001b[1m1s\u001b[0m 1ms/step - accuracy: 0.0054 - f1_score: 0.6071 - loss: 0.1037 - precision_2: 0.9499 - recall_2: 0.9667 - val_accuracy: 0.0020 - val_f1_score: 0.6049 - val_loss: 1.3882 - val_precision_2: 0.7338 - val_recall_2: 0.6753\n",
      "Epoch 11/30\n",
      "\u001b[1m400/400\u001b[0m \u001b[32m━━━━━━━━━━━━━━━━━━━━\u001b[0m\u001b[37m\u001b[0m \u001b[1m1s\u001b[0m 1ms/step - accuracy: 0.0052 - f1_score: 0.6000 - loss: 0.1052 - precision_2: 0.9511 - recall_2: 0.9619 - val_accuracy: 0.0030 - val_f1_score: 0.6060 - val_loss: 1.3571 - val_precision_2: 0.7367 - val_recall_2: 0.6823\n",
      "Epoch 12/30\n",
      "\u001b[1m400/400\u001b[0m \u001b[32m━━━━━━━━━━━━━━━━━━━━\u001b[0m\u001b[37m\u001b[0m \u001b[1m1s\u001b[0m 1ms/step - accuracy: 0.0069 - f1_score: 0.6023 - loss: 0.0958 - precision_2: 0.9528 - recall_2: 0.9649 - val_accuracy: 0.0035 - val_f1_score: 0.6021 - val_loss: 1.3735 - val_precision_2: 0.7088 - val_recall_2: 0.6647\n",
      "Epoch 13/30\n",
      "\u001b[1m400/400\u001b[0m \u001b[32m━━━━━━━━━━━━━━━━━━━━\u001b[0m\u001b[37m\u001b[0m \u001b[1m1s\u001b[0m 1ms/step - accuracy: 0.0067 - f1_score: 0.6022 - loss: 0.0892 - precision_2: 0.9552 - recall_2: 0.9705 - val_accuracy: 0.0045 - val_f1_score: 0.6026 - val_loss: 1.3643 - val_precision_2: 0.6819 - val_recall_2: 0.6811\n",
      "Epoch 14/30\n",
      "\u001b[1m400/400\u001b[0m \u001b[32m━━━━━━━━━━━━━━━━━━━━\u001b[0m\u001b[37m\u001b[0m \u001b[1m1s\u001b[0m 1ms/step - accuracy: 0.0092 - f1_score: 0.5982 - loss: 0.1119 - precision_2: 0.9453 - recall_2: 0.9644 - val_accuracy: 0.0020 - val_f1_score: 0.6098 - val_loss: 1.4909 - val_precision_2: 0.7329 - val_recall_2: 0.6530\n",
      "Epoch 15/30\n",
      "\u001b[1m400/400\u001b[0m \u001b[32m━━━━━━━━━━━━━━━━━━━━\u001b[0m\u001b[37m\u001b[0m \u001b[1m1s\u001b[0m 1ms/step - accuracy: 0.0097 - f1_score: 0.6034 - loss: 0.1022 - precision_2: 0.9521 - recall_2: 0.9665 - val_accuracy: 0.0055 - val_f1_score: 0.6023 - val_loss: 1.3692 - val_precision_2: 0.6905 - val_recall_2: 0.6905\n",
      "Epoch 16/30\n",
      "\u001b[1m400/400\u001b[0m \u001b[32m━━━━━━━━━━━━━━━━━━━━\u001b[0m\u001b[37m\u001b[0m \u001b[1m1s\u001b[0m 1ms/step - accuracy: 0.0071 - f1_score: 0.5973 - loss: 0.0924 - precision_2: 0.9571 - recall_2: 0.9700 - val_accuracy: 0.0130 - val_f1_score: 0.6033 - val_loss: 1.4094 - val_precision_2: 0.6900 - val_recall_2: 0.7386\n",
      "Epoch 17/30\n",
      "\u001b[1m400/400\u001b[0m \u001b[32m━━━━━━━━━━━━━━━━━━━━\u001b[0m\u001b[37m\u001b[0m \u001b[1m0s\u001b[0m 1ms/step - accuracy: 0.0151 - f1_score: 0.6090 - loss: 0.0962 - precision_2: 0.9551 - recall_2: 0.9652 - val_accuracy: 0.0025 - val_f1_score: 0.6047 - val_loss: 1.4286 - val_precision_2: 0.7211 - val_recall_2: 0.6882\n",
      "Epoch 18/30\n",
      "\u001b[1m400/400\u001b[0m \u001b[32m━━━━━━━━━━━━━━━━━━━━\u001b[0m\u001b[37m\u001b[0m \u001b[1m1s\u001b[0m 1ms/step - accuracy: 0.0100 - f1_score: 0.6075 - loss: 0.0902 - precision_2: 0.9522 - recall_2: 0.9762 - val_accuracy: 0.0035 - val_f1_score: 0.6087 - val_loss: 1.4800 - val_precision_2: 0.7440 - val_recall_2: 0.6577\n",
      "Epoch 19/30\n",
      "\u001b[1m400/400\u001b[0m \u001b[32m━━━━━━━━━━━━━━━━━━━━\u001b[0m\u001b[37m\u001b[0m \u001b[1m1s\u001b[0m 1ms/step - accuracy: 0.0100 - f1_score: 0.6137 - loss: 0.0856 - precision_2: 0.9605 - recall_2: 0.9744 - val_accuracy: 0.0050 - val_f1_score: 0.6070 - val_loss: 1.4671 - val_precision_2: 0.7177 - val_recall_2: 0.6764\n",
      "Epoch 20/30\n",
      "\u001b[1m400/400\u001b[0m \u001b[32m━━━━━━━━━━━━━━━━━━━━\u001b[0m\u001b[37m\u001b[0m \u001b[1m1s\u001b[0m 1ms/step - accuracy: 0.0098 - f1_score: 0.6093 - loss: 0.0956 - precision_2: 0.9544 - recall_2: 0.9674 - val_accuracy: 0.0030 - val_f1_score: 0.6107 - val_loss: 1.4882 - val_precision_2: 0.7330 - val_recall_2: 0.6565\n",
      "Epoch 21/30\n",
      "\u001b[1m400/400\u001b[0m \u001b[32m━━━━━━━━━━━━━━━━━━━━\u001b[0m\u001b[37m\u001b[0m \u001b[1m0s\u001b[0m 1ms/step - accuracy: 0.0083 - f1_score: 0.6057 - loss: 0.0934 - precision_2: 0.9505 - recall_2: 0.9671 - val_accuracy: 0.0045 - val_f1_score: 0.6056 - val_loss: 1.5308 - val_precision_2: 0.6931 - val_recall_2: 0.6858\n",
      "Epoch 22/30\n",
      "\u001b[1m400/400\u001b[0m \u001b[32m━━━━━━━━━━━━━━━━━━━━\u001b[0m\u001b[37m\u001b[0m \u001b[1m0s\u001b[0m 1ms/step - accuracy: 0.0137 - f1_score: 0.6052 - loss: 0.1131 - precision_2: 0.9491 - recall_2: 0.9566 - val_accuracy: 0.0045 - val_f1_score: 0.6016 - val_loss: 1.4991 - val_precision_2: 0.7041 - val_recall_2: 0.6694\n",
      "Epoch 23/30\n",
      "\u001b[1m400/400\u001b[0m \u001b[32m━━━━━━━━━━━━━━━━━━━━\u001b[0m\u001b[37m\u001b[0m \u001b[1m0s\u001b[0m 1ms/step - accuracy: 0.0137 - f1_score: 0.6067 - loss: 0.1018 - precision_2: 0.9494 - recall_2: 0.9665 - val_accuracy: 0.0060 - val_f1_score: 0.6039 - val_loss: 1.5240 - val_precision_2: 0.7109 - val_recall_2: 0.6600\n",
      "Epoch 24/30\n",
      "\u001b[1m400/400\u001b[0m \u001b[32m━━━━━━━━━━━━━━━━━━━━\u001b[0m\u001b[37m\u001b[0m \u001b[1m1s\u001b[0m 1ms/step - accuracy: 0.0127 - f1_score: 0.6050 - loss: 0.0823 - precision_2: 0.9631 - recall_2: 0.9733 - val_accuracy: 0.0060 - val_f1_score: 0.6063 - val_loss: 1.5123 - val_precision_2: 0.7179 - val_recall_2: 0.6952\n",
      "Epoch 25/30\n",
      "\u001b[1m400/400\u001b[0m \u001b[32m━━━━━━━━━━━━━━━━━━━━\u001b[0m\u001b[37m\u001b[0m \u001b[1m1s\u001b[0m 1ms/step - accuracy: 0.0119 - f1_score: 0.6088 - loss: 0.0831 - precision_2: 0.9595 - recall_2: 0.9744 - val_accuracy: 0.0075 - val_f1_score: 0.6034 - val_loss: 1.5268 - val_precision_2: 0.7066 - val_recall_2: 0.6917\n",
      "Epoch 26/30\n",
      "\u001b[1m400/400\u001b[0m \u001b[32m━━━━━━━━━━━━━━━━━━━━\u001b[0m\u001b[37m\u001b[0m \u001b[1m1s\u001b[0m 1ms/step - accuracy: 0.0127 - f1_score: 0.6135 - loss: 0.0945 - precision_2: 0.9537 - recall_2: 0.9750 - val_accuracy: 0.0045 - val_f1_score: 0.6024 - val_loss: 1.5468 - val_precision_2: 0.6972 - val_recall_2: 0.6506\n",
      "Epoch 27/30\n",
      "\u001b[1m400/400\u001b[0m \u001b[32m━━━━━━━━━━━━━━━━━━━━\u001b[0m\u001b[37m\u001b[0m \u001b[1m1s\u001b[0m 1ms/step - accuracy: 0.0129 - f1_score: 0.5975 - loss: 0.0902 - precision_2: 0.9549 - recall_2: 0.9690 - val_accuracy: 0.0090 - val_f1_score: 0.6049 - val_loss: 1.5730 - val_precision_2: 0.6948 - val_recall_2: 0.6858\n",
      "Epoch 28/30\n",
      "\u001b[1m400/400\u001b[0m \u001b[32m━━━━━━━━━━━━━━━━━━━━\u001b[0m\u001b[37m\u001b[0m \u001b[1m1s\u001b[0m 1ms/step - accuracy: 0.0138 - f1_score: 0.5988 - loss: 0.0847 - precision_2: 0.9565 - recall_2: 0.9723 - val_accuracy: 0.0085 - val_f1_score: 0.6041 - val_loss: 1.6161 - val_precision_2: 0.7040 - val_recall_2: 0.6858\n",
      "Epoch 29/30\n",
      "\u001b[1m400/400\u001b[0m \u001b[32m━━━━━━━━━━━━━━━━━━━━\u001b[0m\u001b[37m\u001b[0m \u001b[1m1s\u001b[0m 1ms/step - accuracy: 0.0158 - f1_score: 0.6038 - loss: 0.0878 - precision_2: 0.9532 - recall_2: 0.9727 - val_accuracy: 0.0055 - val_f1_score: 0.6038 - val_loss: 1.6060 - val_precision_2: 0.7084 - val_recall_2: 0.6436\n",
      "Epoch 30/30\n",
      "\u001b[1m400/400\u001b[0m \u001b[32m━━━━━━━━━━━━━━━━━━━━\u001b[0m\u001b[37m\u001b[0m \u001b[1m1s\u001b[0m 1ms/step - accuracy: 0.0145 - f1_score: 0.6104 - loss: 0.0887 - precision_2: 0.9541 - recall_2: 0.9716 - val_accuracy: 0.0070 - val_f1_score: 0.6065 - val_loss: 1.5616 - val_precision_2: 0.7021 - val_recall_2: 0.6577\n"
     ]
    },
    {
     "data": {
      "text/plain": [
       "<keras.src.callbacks.history.History at 0x74c718217380>"
      ]
     },
     "execution_count": 43,
     "metadata": {},
     "output_type": "execute_result"
    }
   ],
   "source": [
    "model.fit(xtra,ytra,validation_data=(xtest,ytest),batch_size=20,epochs=30)"
   ]
  },
  {
   "cell_type": "code",
   "execution_count": null,
   "id": "d81c68e7-d8e0-4ad2-a1a3-72b0142f33b0",
   "metadata": {},
   "outputs": [],
   "source": []
  }
 ],
 "metadata": {
  "kernelspec": {
   "display_name": "Python (pyenv)",
   "language": "python",
   "name": "myenv"
  },
  "language_info": {
   "codemirror_mode": {
    "name": "ipython",
    "version": 3
   },
   "file_extension": ".py",
   "mimetype": "text/x-python",
   "name": "python",
   "nbconvert_exporter": "python",
   "pygments_lexer": "ipython3",
   "version": "3.12.3"
  }
 },
 "nbformat": 4,
 "nbformat_minor": 5
}
