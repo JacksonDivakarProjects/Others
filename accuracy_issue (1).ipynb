{
 "cells": [
  {
   "cell_type": "code",
   "execution_count": 41,
   "id": "9cd6483b-3636-4022-b274-91ebf3d678bf",
   "metadata": {},
   "outputs": [
    {
     "data": {
      "text/plain": [
       "'2.18.0'"
      ]
     },
     "execution_count": 41,
     "metadata": {},
     "output_type": "execute_result"
    }
   ],
   "source": [
    "tf.__version__"
   ]
  },
  {
   "cell_type": "code",
   "execution_count": 1,
   "id": "4f980c9d-0cfb-4aa8-bf26-ef6cee6febf5",
   "metadata": {},
   "outputs": [
    {
     "name": "stderr",
     "output_type": "stream",
     "text": [
      "2025-02-23 11:31:59.747777: I tensorflow/core/util/port.cc:153] oneDNN custom operations are on. You may see slightly different numerical results due to floating-point round-off errors from different computation orders. To turn them off, set the environment variable `TF_ENABLE_ONEDNN_OPTS=0`.\n",
      "2025-02-23 11:31:59.896907: E external/local_xla/xla/stream_executor/cuda/cuda_fft.cc:477] Unable to register cuFFT factory: Attempting to register factory for plugin cuFFT when one has already been registered\n",
      "WARNING: All log messages before absl::InitializeLog() is called are written to STDERR\n",
      "E0000 00:00:1740290519.954088    4847 cuda_dnn.cc:8310] Unable to register cuDNN factory: Attempting to register factory for plugin cuDNN when one has already been registered\n",
      "E0000 00:00:1740290519.969733    4847 cuda_blas.cc:1418] Unable to register cuBLAS factory: Attempting to register factory for plugin cuBLAS when one has already been registered\n",
      "2025-02-23 11:32:00.106625: I tensorflow/core/platform/cpu_feature_guard.cc:210] This TensorFlow binary is optimized to use available CPU instructions in performance-critical operations.\n",
      "To enable the following instructions: AVX2 AVX_VNNI FMA, in other operations, rebuild TensorFlow with the appropriate compiler flags.\n"
     ]
    }
   ],
   "source": [
    "import tensorflow as tf"
   ]
  },
  {
   "cell_type": "code",
   "execution_count": 2,
   "id": "5c8cc28f-9643-4a8a-b3a4-b79e8b2bd0f8",
   "metadata": {},
   "outputs": [],
   "source": [
    "import pandas as pd"
   ]
  },
  {
   "cell_type": "code",
   "execution_count": 3,
   "id": "afad62da-e7dc-45ff-b650-9269a59ecb04",
   "metadata": {},
   "outputs": [],
   "source": [
    "data=pd.read_csv('/home/jackson-divakar/Downloads/archive/placementdata.csv')"
   ]
  },
  {
   "cell_type": "code",
   "execution_count": 4,
   "id": "8676c299-e8ee-4527-8291-fbb0a4d2138b",
   "metadata": {},
   "outputs": [],
   "source": [
    "from sklearn.compose import make_column_selector"
   ]
  },
  {
   "cell_type": "code",
   "execution_count": 5,
   "id": "70ee8474-be3c-412f-947d-8b6c00aa7e1b",
   "metadata": {},
   "outputs": [],
   "source": [
    "from sklearn.preprocessing import scale"
   ]
  },
  {
   "cell_type": "code",
   "execution_count": 11,
   "id": "1f18618c-c66f-4705-9df2-5f4a99cd8c3a",
   "metadata": {},
   "outputs": [
    {
     "name": "stderr",
     "output_type": "stream",
     "text": [
      "/tmp/ipykernel_4847/2229707510.py:1: FutureWarning: Downcasting behavior in `replace` is deprecated and will be removed in a future version. To retain the old behavior, explicitly call `result.infer_objects(copy=False)`. To opt-in to the future behavior, set `pd.set_option('future.no_silent_downcasting', True)`\n",
      "  y_data=data['PlacementStatus'].replace({'NotPlaced':0,'Placed':1})\n"
     ]
    }
   ],
   "source": [
    "y_data=data['PlacementStatus'].replace({'NotPlaced':0,'Placed':1})"
   ]
  },
  {
   "cell_type": "code",
   "execution_count": 15,
   "id": "658a1102-2cdf-49a8-9d69-436f5dc89d5b",
   "metadata": {},
   "outputs": [],
   "source": [
    "selector=make_column_selector(dtype_include='number')"
   ]
  },
  {
   "cell_type": "code",
   "execution_count": 21,
   "id": "116043e5-cfae-4870-a731-8eb0c5fda57e",
   "metadata": {},
   "outputs": [],
   "source": [
    "x_data=data[selector(data)]"
   ]
  },
  {
   "cell_type": "code",
   "execution_count": 22,
   "id": "7bef9a74-1477-4d06-ba8e-66296717c183",
   "metadata": {},
   "outputs": [
    {
     "name": "stderr",
     "output_type": "stream",
     "text": [
      "/tmp/ipykernel_4847/4158031063.py:1: SettingWithCopyWarning: \n",
      "A value is trying to be set on a copy of a slice from a DataFrame\n",
      "\n",
      "See the caveats in the documentation: https://pandas.pydata.org/pandas-docs/stable/user_guide/indexing.html#returning-a-view-versus-a-copy\n",
      "  x_data.drop('StudentID',axis=1,inplace=True)\n"
     ]
    }
   ],
   "source": [
    "x_data.drop('StudentID',axis=1,inplace=True)"
   ]
  },
  {
   "cell_type": "code",
   "execution_count": 23,
   "id": "098b88ce-aec7-4221-be4c-b6d04fe7477b",
   "metadata": {},
   "outputs": [],
   "source": [
    "x_data=scale(x_data)"
   ]
  },
  {
   "cell_type": "code",
   "execution_count": 24,
   "id": "e4cf1d9d-a79a-4aac-a307-1292542b5add",
   "metadata": {},
   "outputs": [],
   "source": [
    "from sklearn.model_selection import train_test_split"
   ]
  },
  {
   "cell_type": "code",
   "execution_count": 25,
   "id": "782e7bf5-0fc7-48a5-bd86-0045e588cf87",
   "metadata": {},
   "outputs": [],
   "source": [
    "from tensorflow.keras.metrics import F1Score,Precision,Recall,Accuracy"
   ]
  },
  {
   "cell_type": "code",
   "execution_count": 27,
   "id": "75865846-068e-4bf7-9846-7a48681078c8",
   "metadata": {},
   "outputs": [],
   "source": [
    "from tensorflow.keras.losses import BinaryCrossentropy"
   ]
  },
  {
   "cell_type": "code",
   "execution_count": 28,
   "id": "56d462c8-2987-469d-a0e3-f5968d6f8969",
   "metadata": {},
   "outputs": [],
   "source": [
    "from tensorflow.keras.models import Model"
   ]
  },
  {
   "cell_type": "code",
   "execution_count": 29,
   "id": "62e15579-1962-49e3-a853-35632c4bb95e",
   "metadata": {},
   "outputs": [],
   "source": [
    "from tensorflow.keras.layers import Input,Dense"
   ]
  },
  {
   "cell_type": "code",
   "execution_count": 30,
   "id": "038ceb68-6f61-4185-9d5d-0e25373dc874",
   "metadata": {},
   "outputs": [],
   "source": [
    "xtra,xtest,ytra,ytest=train_test_split(x_data,y_data,test_size=0.2)"
   ]
  },
  {
   "cell_type": "code",
   "execution_count": 31,
   "id": "e9bc3608-624e-461c-820f-97f59b5b6de8",
   "metadata": {},
   "outputs": [
    {
     "data": {
      "text/plain": [
       "(8000, 8)"
      ]
     },
     "execution_count": 31,
     "metadata": {},
     "output_type": "execute_result"
    }
   ],
   "source": [
    "xtra.shape"
   ]
  },
  {
   "cell_type": "code",
   "execution_count": 32,
   "id": "2e6e46be-b500-49e7-94af-4c0edaa4438e",
   "metadata": {},
   "outputs": [
    {
     "name": "stderr",
     "output_type": "stream",
     "text": [
      "I0000 00:00:1740291037.614983    4847 gpu_device.cc:2022] Created device /job:localhost/replica:0/task:0/device:GPU:0 with 4176 MB memory:  -> device: 0, name: NVIDIA GeForce RTX 3050 6GB Laptop GPU, pci bus id: 0000:01:00.0, compute capability: 8.6\n"
     ]
    }
   ],
   "source": [
    "i=Input((8,))\n",
    "x=Dense(512,activation='relu')(i)\n",
    "x=Dense(256,activation='relu')(x)\n",
    "x=Dense(1,activation='sigmoid')(x)"
   ]
  },
  {
   "cell_type": "code",
   "execution_count": 33,
   "id": "87826056-a2f7-46a5-ada5-3fcd2ea5174f",
   "metadata": {},
   "outputs": [],
   "source": [
    "model=Model(i,x)"
   ]
  },
  {
   "cell_type": "code",
   "execution_count": 39,
   "id": "c755fadb-1035-4ea3-afa5-1f380c16fd5d",
   "metadata": {},
   "outputs": [],
   "source": [
    "model.compile(loss=BinaryCrossentropy(),metrics=[Accuracy()],optimizer='adam')"
   ]
  },
  {
   "cell_type": "code",
   "execution_count": 40,
   "id": "9a6e2239-39c4-4712-a96f-a9ec252d4bb7",
   "metadata": {
    "scrolled": true
   },
   "outputs": [
    {
     "name": "stdout",
     "output_type": "stream",
     "text": [
      "Epoch 1/30\n",
      "\u001b[1m400/400\u001b[0m \u001b[32m━━━━━━━━━━━━━━━━━━━━\u001b[0m\u001b[37m\u001b[0m \u001b[1m2s\u001b[0m 2ms/step - accuracy: 0.0000e+00 - loss: 0.2078 - val_accuracy: 5.0000e-04 - val_loss: 0.7825\n",
      "Epoch 2/30\n",
      "\u001b[1m400/400\u001b[0m \u001b[32m━━━━━━━━━━━━━━━━━━━━\u001b[0m\u001b[37m\u001b[0m \u001b[1m0s\u001b[0m 1ms/step - accuracy: 1.7296e-05 - loss: 0.1982 - val_accuracy: 0.0010 - val_loss: 0.7933\n",
      "Epoch 3/30\n",
      "\u001b[1m400/400\u001b[0m \u001b[32m━━━━━━━━━━━━━━━━━━━━\u001b[0m\u001b[37m\u001b[0m \u001b[1m0s\u001b[0m 1ms/step - accuracy: 1.8204e-04 - loss: 0.1930 - val_accuracy: 5.0000e-04 - val_loss: 0.8123\n",
      "Epoch 4/30\n",
      "\u001b[1m400/400\u001b[0m \u001b[32m━━━━━━━━━━━━━━━━━━━━\u001b[0m\u001b[37m\u001b[0m \u001b[1m0s\u001b[0m 1ms/step - accuracy: 2.0585e-04 - loss: 0.1942 - val_accuracy: 0.0000e+00 - val_loss: 0.8374\n",
      "Epoch 5/30\n",
      "\u001b[1m400/400\u001b[0m \u001b[32m━━━━━━━━━━━━━━━━━━━━\u001b[0m\u001b[37m\u001b[0m \u001b[1m0s\u001b[0m 1ms/step - accuracy: 7.8343e-05 - loss: 0.1831 - val_accuracy: 0.0010 - val_loss: 0.8470\n",
      "Epoch 6/30\n",
      "\u001b[1m400/400\u001b[0m \u001b[32m━━━━━━━━━━━━━━━━━━━━\u001b[0m\u001b[37m\u001b[0m \u001b[1m0s\u001b[0m 1ms/step - accuracy: 4.5980e-05 - loss: 0.1824 - val_accuracy: 5.0000e-04 - val_loss: 0.9106\n",
      "Epoch 7/30\n",
      "\u001b[1m400/400\u001b[0m \u001b[32m━━━━━━━━━━━━━━━━━━━━\u001b[0m\u001b[37m\u001b[0m \u001b[1m0s\u001b[0m 1ms/step - accuracy: 8.5589e-05 - loss: 0.1736 - val_accuracy: 0.0010 - val_loss: 0.8641\n",
      "Epoch 8/30\n",
      "\u001b[1m400/400\u001b[0m \u001b[32m━━━━━━━━━━━━━━━━━━━━\u001b[0m\u001b[37m\u001b[0m \u001b[1m0s\u001b[0m 1ms/step - accuracy: 6.8055e-05 - loss: 0.1747 - val_accuracy: 0.0010 - val_loss: 0.8961\n",
      "Epoch 9/30\n",
      "\u001b[1m400/400\u001b[0m \u001b[32m━━━━━━━━━━━━━━━━━━━━\u001b[0m\u001b[37m\u001b[0m \u001b[1m0s\u001b[0m 1ms/step - accuracy: 6.9210e-04 - loss: 0.1759 - val_accuracy: 0.0010 - val_loss: 0.9078\n",
      "Epoch 10/30\n",
      "\u001b[1m400/400\u001b[0m \u001b[32m━━━━━━━━━━━━━━━━━━━━\u001b[0m\u001b[37m\u001b[0m \u001b[1m0s\u001b[0m 1ms/step - accuracy: 5.9996e-04 - loss: 0.1602 - val_accuracy: 0.0015 - val_loss: 0.9580\n",
      "Epoch 11/30\n",
      "\u001b[1m400/400\u001b[0m \u001b[32m━━━━━━━━━━━━━━━━━━━━\u001b[0m\u001b[37m\u001b[0m \u001b[1m0s\u001b[0m 1ms/step - accuracy: 5.1642e-05 - loss: 0.1677 - val_accuracy: 0.0015 - val_loss: 0.9122\n",
      "Epoch 12/30\n",
      "\u001b[1m400/400\u001b[0m \u001b[32m━━━━━━━━━━━━━━━━━━━━\u001b[0m\u001b[37m\u001b[0m \u001b[1m0s\u001b[0m 1ms/step - accuracy: 6.8920e-04 - loss: 0.1637 - val_accuracy: 0.0015 - val_loss: 0.9449\n",
      "Epoch 13/30\n",
      "\u001b[1m400/400\u001b[0m \u001b[32m━━━━━━━━━━━━━━━━━━━━\u001b[0m\u001b[37m\u001b[0m \u001b[1m0s\u001b[0m 1ms/step - accuracy: 9.7755e-04 - loss: 0.1548 - val_accuracy: 0.0015 - val_loss: 0.9654\n",
      "Epoch 14/30\n",
      "\u001b[1m400/400\u001b[0m \u001b[32m━━━━━━━━━━━━━━━━━━━━\u001b[0m\u001b[37m\u001b[0m \u001b[1m0s\u001b[0m 1ms/step - accuracy: 0.0011 - loss: 0.1564 - val_accuracy: 0.0015 - val_loss: 0.9860\n",
      "Epoch 15/30\n",
      "\u001b[1m400/400\u001b[0m \u001b[32m━━━━━━━━━━━━━━━━━━━━\u001b[0m\u001b[37m\u001b[0m \u001b[1m0s\u001b[0m 1ms/step - accuracy: 0.0010 - loss: 0.1548 - val_accuracy: 0.0015 - val_loss: 0.9776\n",
      "Epoch 16/30\n",
      "\u001b[1m400/400\u001b[0m \u001b[32m━━━━━━━━━━━━━━━━━━━━\u001b[0m\u001b[37m\u001b[0m \u001b[1m0s\u001b[0m 1ms/step - accuracy: 0.0019 - loss: 0.1500 - val_accuracy: 0.0015 - val_loss: 1.0468\n",
      "Epoch 17/30\n",
      "\u001b[1m400/400\u001b[0m \u001b[32m━━━━━━━━━━━━━━━━━━━━\u001b[0m\u001b[37m\u001b[0m \u001b[1m0s\u001b[0m 1ms/step - accuracy: 6.8044e-04 - loss: 0.1522 - val_accuracy: 0.0020 - val_loss: 1.0346\n",
      "Epoch 18/30\n",
      "\u001b[1m400/400\u001b[0m \u001b[32m━━━━━━━━━━━━━━━━━━━━\u001b[0m\u001b[37m\u001b[0m \u001b[1m0s\u001b[0m 1ms/step - accuracy: 0.0011 - loss: 0.1461 - val_accuracy: 0.0015 - val_loss: 1.0473\n",
      "Epoch 19/30\n",
      "\u001b[1m400/400\u001b[0m \u001b[32m━━━━━━━━━━━━━━━━━━━━\u001b[0m\u001b[37m\u001b[0m \u001b[1m0s\u001b[0m 1ms/step - accuracy: 0.0013 - loss: 0.1457 - val_accuracy: 0.0015 - val_loss: 1.0825\n",
      "Epoch 20/30\n",
      "\u001b[1m400/400\u001b[0m \u001b[32m━━━━━━━━━━━━━━━━━━━━\u001b[0m\u001b[37m\u001b[0m \u001b[1m0s\u001b[0m 1ms/step - accuracy: 0.0025 - loss: 0.1401 - val_accuracy: 0.0020 - val_loss: 1.1129\n",
      "Epoch 21/30\n",
      "\u001b[1m400/400\u001b[0m \u001b[32m━━━━━━━━━━━━━━━━━━━━\u001b[0m\u001b[37m\u001b[0m \u001b[1m0s\u001b[0m 1ms/step - accuracy: 0.0015 - loss: 0.1348 - val_accuracy: 0.0020 - val_loss: 1.0754\n",
      "Epoch 22/30\n",
      "\u001b[1m400/400\u001b[0m \u001b[32m━━━━━━━━━━━━━━━━━━━━\u001b[0m\u001b[37m\u001b[0m \u001b[1m0s\u001b[0m 1ms/step - accuracy: 0.0028 - loss: 0.1267 - val_accuracy: 0.0020 - val_loss: 1.0949\n",
      "Epoch 23/30\n",
      "\u001b[1m400/400\u001b[0m \u001b[32m━━━━━━━━━━━━━━━━━━━━\u001b[0m\u001b[37m\u001b[0m \u001b[1m0s\u001b[0m 1ms/step - accuracy: 0.0024 - loss: 0.1341 - val_accuracy: 0.0015 - val_loss: 1.1651\n",
      "Epoch 24/30\n",
      "\u001b[1m400/400\u001b[0m \u001b[32m━━━━━━━━━━━━━━━━━━━━\u001b[0m\u001b[37m\u001b[0m \u001b[1m0s\u001b[0m 1ms/step - accuracy: 0.0015 - loss: 0.1266 - val_accuracy: 0.0025 - val_loss: 1.1196\n",
      "Epoch 25/30\n",
      "\u001b[1m400/400\u001b[0m \u001b[32m━━━━━━━━━━━━━━━━━━━━\u001b[0m\u001b[37m\u001b[0m \u001b[1m0s\u001b[0m 1ms/step - accuracy: 0.0022 - loss: 0.1335 - val_accuracy: 0.0015 - val_loss: 1.1267\n",
      "Epoch 26/30\n",
      "\u001b[1m400/400\u001b[0m \u001b[32m━━━━━━━━━━━━━━━━━━━━\u001b[0m\u001b[37m\u001b[0m \u001b[1m0s\u001b[0m 1ms/step - accuracy: 0.0022 - loss: 0.1235 - val_accuracy: 0.0025 - val_loss: 1.1290\n",
      "Epoch 27/30\n",
      "\u001b[1m400/400\u001b[0m \u001b[32m━━━━━━━━━━━━━━━━━━━━\u001b[0m\u001b[37m\u001b[0m \u001b[1m0s\u001b[0m 1ms/step - accuracy: 0.0043 - loss: 0.1268 - val_accuracy: 0.0025 - val_loss: 1.1657\n",
      "Epoch 28/30\n",
      "\u001b[1m400/400\u001b[0m \u001b[32m━━━━━━━━━━━━━━━━━━━━\u001b[0m\u001b[37m\u001b[0m \u001b[1m0s\u001b[0m 1ms/step - accuracy: 0.0022 - loss: 0.1317 - val_accuracy: 0.0025 - val_loss: 1.1481\n",
      "Epoch 29/30\n",
      "\u001b[1m400/400\u001b[0m \u001b[32m━━━━━━━━━━━━━━━━━━━━\u001b[0m\u001b[37m\u001b[0m \u001b[1m0s\u001b[0m 1ms/step - accuracy: 0.0033 - loss: 0.1187 - val_accuracy: 0.0025 - val_loss: 1.1800\n",
      "Epoch 30/30\n",
      "\u001b[1m400/400\u001b[0m \u001b[32m━━━━━━━━━━━━━━━━━━━━\u001b[0m\u001b[37m\u001b[0m \u001b[1m0s\u001b[0m 1ms/step - accuracy: 0.0018 - loss: 0.1135 - val_accuracy: 0.0025 - val_loss: 1.2206\n"
     ]
    },
    {
     "data": {
      "text/plain": [
       "<keras.src.callbacks.history.History at 0x74c708127860>"
      ]
     },
     "execution_count": 40,
     "metadata": {},
     "output_type": "execute_result"
    }
   ],
   "source": [
    "model.fit(xtra,ytra,validation_data=(xtest,ytest),batch_size=20,epochs=30)"
   ]
  },
  {
   "cell_type": "code",
   "execution_count": null,
   "id": "d81c68e7-d8e0-4ad2-a1a3-72b0142f33b0",
   "metadata": {},
   "outputs": [],
   "source": []
  }
 ],
 "metadata": {
  "kernelspec": {
   "display_name": "Python (pyenv)",
   "language": "python",
   "name": "myenv"
  },
  "language_info": {
   "codemirror_mode": {
    "name": "ipython",
    "version": 3
   },
   "file_extension": ".py",
   "mimetype": "text/x-python",
   "name": "python",
   "nbconvert_exporter": "python",
   "pygments_lexer": "ipython3",
   "version": "3.12.3"
  }
 },
 "nbformat": 4,
 "nbformat_minor": 5
}
